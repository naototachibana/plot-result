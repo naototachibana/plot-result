{
 "cells": [
  {
   "cell_type": "code",
   "execution_count": 22,
   "metadata": {},
   "outputs": [
    {
     "name": "stdout",
     "output_type": "stream",
     "text": [
      "/Users/user/programs/result_gcnn/eval_LUMO/eval_LUMO_hartree_lowest_ggnn_2_2000epoch \\\n",
      "/Users/user/programs/result_gcnn/eval_LUMO/eval_LUMO_hartree_lowest_weavenet_2_2000epoch \\\n",
      "/Users/user/programs/result_gcnn/eval_LUMO/eval_LUMO_hartree_lowest_nfp_2_2000epoch \\\n",
      "/Users/user/programs/result_gcnn/eval_LUMO/eval_LUMO_hartree_lowest_weavenet_1_2000epoch \\\n",
      "/Users/user/programs/result_gcnn/eval_LUMO/eval_LUMO_hartree_lowest_ggnn_0_2000epoch \\\n",
      "/Users/user/programs/result_gcnn/eval_LUMO/eval_LUMO_hartree_lowest_nfp_1_2000epoch \\\n",
      "/Users/user/programs/result_gcnn/eval_LUMO/eval_LUMO_hartree_lowest_weavenet_0_2000epoch \\\n",
      "/Users/user/programs/result_gcnn/eval_LUMO/eval_LUMO_hartree_lowest_ggnn_1_2000epoch \\\n",
      "/Users/user/programs/result_gcnn/eval_LUMO/eval_LUMO_hartree_lowest_nfp_0_2000epoch \\\n",
      "/Users/user/programs/result_gcnn/eval_GAP/eval_GAP_hartree_lowest_ggnn_0_2000epoch \\\n",
      "/Users/user/programs/result_gcnn/eval_GAP/eval_GAP_hartree_lowest_weavenet_0_2000epoch \\\n",
      "/Users/user/programs/result_gcnn/eval_GAP/eval_GAP_hartree_lowest_ggnn_1_2000epoch \\\n",
      "/Users/user/programs/result_gcnn/eval_GAP/eval_GAP_hartree_lowest_weavenet_1_2000epoch \\\n",
      "/Users/user/programs/result_gcnn/eval_GAP/eval_GAP_hartree_lowest_nfp_2_2000epoch \\\n",
      "/Users/user/programs/result_gcnn/eval_GAP/eval_GAP_hartree_lowest_ggnn_2_2000epoch \\\n",
      "/Users/user/programs/result_gcnn/eval_GAP/eval_GAP_hartree_lowest_weavenet_2_2000epoch \\\n",
      "/Users/user/programs/result_gcnn/eval_GAP/eval_GAP_hartree_lowest_nfp_1_2000epoch \\\n",
      "/Users/user/programs/result_gcnn/eval_GAP/eval_GAP_hartree_lowest_nfp_0_2000epoch \\\n",
      "/Users/user/programs/result_gcnn/eval_HOMO/eval_HOMO_hartree_lowest_nfp_2_2000epoch \\\n",
      "/Users/user/programs/result_gcnn/eval_HOMO/eval_HOMO_hartree_lowest_weavenet_0_2000epoch \\\n",
      "/Users/user/programs/result_gcnn/eval_HOMO/eval_HOMO_hartree_lowest_ggnn_2_2000epoch \\\n",
      "/Users/user/programs/result_gcnn/eval_HOMO/eval_HOMO_hartree_lowest_weavenet_1_2000epoch \\\n",
      "/Users/user/programs/result_gcnn/eval_HOMO/eval_HOMO_hartree_lowest_nfp_0_2000epoch \\\n",
      "/Users/user/programs/result_gcnn/eval_HOMO/eval_HOMO_hartree_lowest_weavenet_2_2000epoch \\\n",
      "/Users/user/programs/result_gcnn/eval_HOMO/eval_HOMO_hartree_lowest_ggnn_0_2000epoch \\\n",
      "/Users/user/programs/result_gcnn/eval_HOMO/eval_HOMO_hartree_lowest_nfp_1_2000epoch \\\n",
      "/Users/user/programs/result_gcnn/eval_HOMO/eval_HOMO_hartree_lowest_ggnn_1_2000epoch \\\n",
      "/Users/user/programs/result_gcnn/eval_total_energy/eval_total_energy_hartree_lowest_ggnn_1_2000epoch \\\n",
      "/Users/user/programs/result_gcnn/eval_total_energy/eval_total_energy_hartree_lowest_weavenet_2_2000epoch \\\n",
      "/Users/user/programs/result_gcnn/eval_total_energy/eval_total_energy_hartree_lowest_nfp_1_2000epoch \\\n",
      "/Users/user/programs/result_gcnn/eval_total_energy/eval_total_energy_hartree_lowest_ggnn_0_2000epoch \\\n",
      "/Users/user/programs/result_gcnn/eval_total_energy/eval_total_energy_hartree_lowest_nfp_0_2000epoch \\\n",
      "/Users/user/programs/result_gcnn/eval_total_energy/eval_total_energy_hartree_lowest_weavenet_0_2000epoch \\\n",
      "/Users/user/programs/result_gcnn/eval_total_energy/eval_total_energy_hartree_lowest_ggnn_2_2000epoch \\\n",
      "/Users/user/programs/result_gcnn/eval_total_energy/eval_total_energy_hartree_lowest_weavenet_1_2000epoch \\\n",
      "/Users/user/programs/result_gcnn/eval_total_energy/eval_total_energy_hartree_lowest_nfp_2_2000epoch \\\n"
     ]
    }
   ],
   "source": [
    "# シェルスクリプトに書くために対象ディレクトリの一覧を表示する\n",
    "import os\n",
    "import glob\n",
    "path = \"/Users/user/programs/result_gcnn\" # このディレクトリ下のディレクトリのフルパスを全て取得\n",
    "files = glob.glob(path+'/**/*hartree*')\n",
    "\n",
    "files_dir = [f for f in files if os.path.isdir(os.path.join(path, f))]\n",
    "\n",
    "# シェルスクリプトにコピペできるように最後の / を消して \\ を追加\n",
    "for dir_path in files_dir:\n",
    "    print (str(dir_path)[:] + \" \\\\\")"
   ]
  },
  {
   "cell_type": "code",
   "execution_count": null,
   "metadata": {},
   "outputs": [],
   "source": []
  }
 ],
 "metadata": {
  "kernelspec": {
   "display_name": "Python 3",
   "language": "python",
   "name": "python3"
  },
  "language_info": {
   "codemirror_mode": {
    "name": "ipython",
    "version": 3
   },
   "file_extension": ".py",
   "mimetype": "text/x-python",
   "name": "python",
   "nbconvert_exporter": "python",
   "pygments_lexer": "ipython3",
   "version": "3.7.3"
  }
 },
 "nbformat": 4,
 "nbformat_minor": 2
}
